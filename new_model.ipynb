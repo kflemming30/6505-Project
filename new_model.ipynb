version https://git-lfs.github.com/spec/v1
oid sha256:145e6d0b8ebdc65aa910794282610dbd9e17dd9a2fb68fde5783263491523eed
size 66161058
