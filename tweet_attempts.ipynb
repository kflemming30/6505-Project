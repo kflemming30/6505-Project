{
 "cells": [
  {
   "cell_type": "code",
   "execution_count": null,
   "id": "f1553445-63e6-4cdc-9148-12d1ea338ea3",
   "metadata": {},
   "outputs": [],
   "source": [
    "from snscrape.modules.twitter import TwitterListPostsScraper\n",
    "\n",
    "# Replace '777955586638053376' with your Twitter list ID\n",
    "search = TwitterListPostsScraper(\"777955586638053376\").get_items()\n",
    "\n",
    "for item in search:\n",
    "    print({\n",
    "        \"tweet\": item.content,\n",
    "        \"url\": item.url,\n",
    "    })"
   ]
  },
  {
   "cell_type": "code",
   "execution_count": 5,
   "id": "237470dc-10fd-4f1a-bd87-972356555806",
   "metadata": {},
   "outputs": [
    {
     "name": "stdout",
     "output_type": "stream",
     "text": [
      "Requirement already satisfied: snscrape in c:\\users\\12039\\appdata\\roaming\\jupyterlab-desktop\\jlab_server\\lib\\site-packages (0.7.0.20230622)\n",
      "Requirement already satisfied: filelock in c:\\users\\12039\\appdata\\roaming\\jupyterlab-desktop\\jlab_server\\lib\\site-packages (from snscrape) (3.13.1)\n",
      "Requirement already satisfied: pytz in c:\\users\\12039\\appdata\\roaming\\jupyterlab-desktop\\jlab_server\\lib\\site-packages (from snscrape) (2022.6)\n",
      "Requirement already satisfied: requests[socks] in c:\\users\\12039\\appdata\\roaming\\jupyterlab-desktop\\jlab_server\\lib\\site-packages (from snscrape) (2.28.1)\n",
      "Requirement already satisfied: lxml in c:\\users\\12039\\appdata\\roaming\\jupyterlab-desktop\\jlab_server\\lib\\site-packages (from snscrape) (4.9.3)\n",
      "Requirement already satisfied: beautifulsoup4 in c:\\users\\12039\\appdata\\roaming\\jupyterlab-desktop\\jlab_server\\lib\\site-packages (from snscrape) (4.11.1)\n",
      "Requirement already satisfied: soupsieve>1.2 in c:\\users\\12039\\appdata\\roaming\\jupyterlab-desktop\\jlab_server\\lib\\site-packages (from beautifulsoup4->snscrape) (2.3.2.post1)\n",
      "Requirement already satisfied: certifi>=2017.4.17 in c:\\users\\12039\\appdata\\roaming\\jupyterlab-desktop\\jlab_server\\lib\\site-packages (from requests[socks]->snscrape) (2022.12.7)\n",
      "Requirement already satisfied: urllib3<1.27,>=1.21.1 in c:\\users\\12039\\appdata\\roaming\\jupyterlab-desktop\\jlab_server\\lib\\site-packages (from requests[socks]->snscrape) (1.26.13)\n",
      "Requirement already satisfied: idna<4,>=2.5 in c:\\users\\12039\\appdata\\roaming\\jupyterlab-desktop\\jlab_server\\lib\\site-packages (from requests[socks]->snscrape) (3.4)\n",
      "Requirement already satisfied: charset-normalizer<3,>=2 in c:\\users\\12039\\appdata\\roaming\\jupyterlab-desktop\\jlab_server\\lib\\site-packages (from requests[socks]->snscrape) (2.1.1)\n",
      "Requirement already satisfied: PySocks!=1.5.7,>=1.5.6 in c:\\users\\12039\\appdata\\roaming\\jupyterlab-desktop\\jlab_server\\lib\\site-packages (from requests[socks]->snscrape) (1.7.1)\n"
     ]
    }
   ],
   "source": [
    "!pip install snscrape"
   ]
  },
  {
   "cell_type": "code",
   "execution_count": null,
   "id": "d3517758-b1f7-4c61-9e72-59da9130861d",
   "metadata": {},
   "outputs": [],
   "source": []
  }
 ],
 "metadata": {
  "kernelspec": {
   "display_name": "Python 3 (ipykernel)",
   "language": "python",
   "name": "python3"
  },
  "language_info": {
   "codemirror_mode": {
    "name": "ipython",
    "version": 3
   },
   "file_extension": ".py",
   "mimetype": "text/x-python",
   "name": "python",
   "nbconvert_exporter": "python",
   "pygments_lexer": "ipython3",
   "version": "3.8.15"
  }
 },
 "nbformat": 4,
 "nbformat_minor": 5
}
