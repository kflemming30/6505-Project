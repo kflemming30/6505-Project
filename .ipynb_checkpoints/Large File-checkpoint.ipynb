{
 "cells": [
  {
   "cell_type": "code",
   "execution_count": 2,
   "id": "294ab329-ca2c-4d8b-8bfd-1d4abee27332",
   "metadata": {},
   "outputs": [
    {
     "name": "stdout",
     "output_type": "stream",
     "text": [
      "Updated Git hooks.\n",
      "Git LFS initialized.\n"
     ]
    }
   ],
   "source": [
    "!git lfs install\n"
   ]
  },
  {
   "cell_type": "code",
   "execution_count": 4,
   "id": "9c9fea4e-3401-4944-85ec-8e7826aa28ac",
   "metadata": {},
   "outputs": [
    {
     "name": "stdout",
     "output_type": "stream",
     "text": [
      "Tracking \"new_model.ipynb\"\n"
     ]
    }
   ],
   "source": [
    "!git lfs track \"new_model.ipynb\"\n"
   ]
  },
  {
   "cell_type": "code",
   "execution_count": 5,
   "id": "4af5e15f-aefe-4c49-a7ec-f5a932488a52",
   "metadata": {},
   "outputs": [
    {
     "name": "stdout",
     "output_type": "stream",
     "text": [
      "[main 5e09694] Initialize Git LFS for *.ipynb files\n",
      " 1 file changed, 1 insertion(+)\n"
     ]
    }
   ],
   "source": [
    "!git add .gitattributes\n",
    "!git commit -m \"Initialize Git LFS for *.ipynb files\"\n"
   ]
  },
  {
   "cell_type": "code",
   "execution_count": 6,
   "id": "2931cb74-064a-4fa5-a8d0-c0a6dfce970d",
   "metadata": {},
   "outputs": [
    {
     "name": "stderr",
     "output_type": "stream",
     "text": [
      "error: src refspec master does not match any\n",
      "error: failed to push some refs to 'https://github.com/kflemming30/Urban_Dynamics_and_Airbnb_Reviews.git'\n"
     ]
    }
   ],
   "source": [
    "!git push origin master\n"
   ]
  },
  {
   "cell_type": "code",
   "execution_count": null,
   "id": "37d3bf10-4eba-4b38-891c-3b6ed438da5e",
   "metadata": {},
   "outputs": [],
   "source": []
  }
 ],
 "metadata": {
  "kernelspec": {
   "display_name": "Python 3 (ipykernel)",
   "language": "python",
   "name": "python3"
  },
  "language_info": {
   "codemirror_mode": {
    "name": "ipython",
    "version": 3
   },
   "file_extension": ".py",
   "mimetype": "text/x-python",
   "name": "python",
   "nbconvert_exporter": "python",
   "pygments_lexer": "ipython3",
   "version": "3.8.18"
  }
 },
 "nbformat": 4,
 "nbformat_minor": 5
}
