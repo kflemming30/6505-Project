{
 "cells": [
  {
   "cell_type": "code",
   "execution_count": null,
   "id": "09fc1dee-fbdf-4943-82ee-2e42da3b9938",
   "metadata": {},
   "outputs": [],
   "source": [
    "import snscrape.modules.twitter as sntwitter\n",
    "from itertools import islice\n",
    "\n",
    "def scrape_tweets(username, num_tweets=5):\n",
    "    # Create a TwitterUserScraper object\n",
    "    user_scraper = sntwitter.TwitterUserScraper(username)\n",
    "\n",
    "    # Get the specified number of latest tweets\n",
    "    tweets = islice(user_scraper.get_items(), num_tweets)\n",
    "\n",
    "    # Print the content of the latest tweets\n",
    "    for tweet in tweets:\n",
    "        print(tweet.content)\n",
    "\n",
    "# Replace 'erictopol' with the Twitter username you want to scrape\n",
    "username_to_scrape = 'erictopol'\n",
    "\n",
    "# Specify the number of tweets you want to retrieve (default is 5)\n",
    "number_of_tweets = 5\n",
    "\n",
    "# Call the function to scrape tweets\n",
    "scrape_tweets(username_to_scrape, number_of_tweets)"
   ]
  }
 ],
 "metadata": {
  "kernelspec": {
   "display_name": "Python 3 (ipykernel)",
   "language": "python",
   "name": "python3"
  },
  "language_info": {
   "codemirror_mode": {
    "name": "ipython",
    "version": 3
   },
   "file_extension": ".py",
   "mimetype": "text/x-python",
   "name": "python",
   "nbconvert_exporter": "python",
   "pygments_lexer": "ipython3",
   "version": "3.8.15"
  }
 },
 "nbformat": 4,
 "nbformat_minor": 5
}
