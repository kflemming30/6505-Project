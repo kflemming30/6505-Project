{
 "cells": [
  {
   "cell_type": "code",
   "execution_count": 4,
   "id": "f3f6bc13-d314-46a4-9dd6-737954352955",
   "metadata": {},
   "outputs": [
    {
     "name": "stdout",
     "output_type": "stream",
     "text": [
      "Requirement already satisfied: tweepy in c:\\users\\12039\\appdata\\roaming\\jupyterlab-desktop\\jlab_server\\lib\\site-packages (4.14.0)\n",
      "Requirement already satisfied: oauthlib<4,>=3.2.0 in c:\\users\\12039\\appdata\\roaming\\jupyterlab-desktop\\jlab_server\\lib\\site-packages (from tweepy) (3.2.2)\n",
      "Requirement already satisfied: requests-oauthlib<2,>=1.2.0 in c:\\users\\12039\\appdata\\roaming\\jupyterlab-desktop\\jlab_server\\lib\\site-packages (from tweepy) (1.3.1)\n",
      "Requirement already satisfied: requests<3,>=2.27.0 in c:\\users\\12039\\appdata\\roaming\\jupyterlab-desktop\\jlab_server\\lib\\site-packages (from tweepy) (2.28.1)\n",
      "Requirement already satisfied: charset-normalizer<3,>=2 in c:\\users\\12039\\appdata\\roaming\\jupyterlab-desktop\\jlab_server\\lib\\site-packages (from requests<3,>=2.27.0->tweepy) (2.1.1)\n",
      "Requirement already satisfied: idna<4,>=2.5 in c:\\users\\12039\\appdata\\roaming\\jupyterlab-desktop\\jlab_server\\lib\\site-packages (from requests<3,>=2.27.0->tweepy) (3.4)\n",
      "Requirement already satisfied: certifi>=2017.4.17 in c:\\users\\12039\\appdata\\roaming\\jupyterlab-desktop\\jlab_server\\lib\\site-packages (from requests<3,>=2.27.0->tweepy) (2022.12.7)\n",
      "Requirement already satisfied: urllib3<1.27,>=1.21.1 in c:\\users\\12039\\appdata\\roaming\\jupyterlab-desktop\\jlab_server\\lib\\site-packages (from requests<3,>=2.27.0->tweepy) (1.26.13)\n"
     ]
    }
   ],
   "source": [
    "!pip install tweepy"
   ]
  },
  {
   "cell_type": "code",
   "execution_count": 7,
   "id": "b98c7e92-6969-419b-8564-f24252529d7f",
   "metadata": {},
   "outputs": [],
   "source": [
    "import tweepy\n",
    "consumer_key = \"cEUw0uE8DauoteX9QUr2IZMH7\"\n",
    "consumer_secret = \"wnTg2A05Xrvj9HKAOTlfSFYTAoHoVrGnj01DhfYXkxQpMpROtM\"\n",
    "access_token = \"1722358666018385920-R024xtjZMz9FRGyMKuyhzDarO032yz\"\n",
    "access_token_secret = \"BNLjWjxwhCj0CLmAaL0wwATdy9kZE2VZfMXqHUz9l8m1Z\""
   ]
  },
  {
   "cell_type": "code",
   "execution_count": 8,
   "id": "4a1a26a9-3db8-4aa0-b11f-15454df240f6",
   "metadata": {},
   "outputs": [],
   "source": [
    "# Creating the authentication object\n",
    "auth = tweepy.OAuthHandler(consumer_key, consumer_secret)\n",
    "# Setting your access token and secret\n",
    "auth.set_access_token(access_token, access_token_secret)\n",
    "# Creating the API object while passing in auth information\n",
    "api = tweepy.API(auth) "
   ]
  },
  {
   "cell_type": "code",
   "execution_count": null,
   "id": "71f92aeb-9f7d-4bb5-bfd8-9a42b45530f7",
   "metadata": {},
   "outputs": [],
   "source": [
    "# Using the API object to get tweets from your timeline, and storing it in a variable called public_tweets\n",
    "public_tweets = api.home_timeline()\n",
    "# foreach through all tweets pulled\n",
    "for tweet in public_tweets:\n",
    "    # printing the text stored inside the tweet object\n",
    "    print(tweet.text)\n",
    "    # Break out of the loop after printing the text of the first tweet\n",
    "    break"
   ]
  },
  {
   "cell_type": "code",
   "execution_count": null,
   "id": "3e8cacb9-62c1-46b9-a624-113a3ef2d7ed",
   "metadata": {},
   "outputs": [],
   "source": []
  }
 ],
 "metadata": {
  "kernelspec": {
   "display_name": "Python 3 (ipykernel)",
   "language": "python",
   "name": "python3"
  },
  "language_info": {
   "codemirror_mode": {
    "name": "ipython",
    "version": 3
   },
   "file_extension": ".py",
   "mimetype": "text/x-python",
   "name": "python",
   "nbconvert_exporter": "python",
   "pygments_lexer": "ipython3",
   "version": "3.8.15"
  }
 },
 "nbformat": 4,
 "nbformat_minor": 5
}
